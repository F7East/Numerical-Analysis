{
  "nbformat": 4,
  "nbformat_minor": 0,
  "metadata": {
    "colab": {
      "provenance": []
    },
    "kernelspec": {
      "name": "python3",
      "display_name": "Python 3"
    },
    "language_info": {
      "name": "python"
    }
  },
  "cells": [
    {
      "cell_type": "code",
      "metadata": {
        "id": "VmcduQWH-dFl"
      },
      "source": [
        "import numpy as np\n",
        "from scipy import linalg as lg\n",
        "from decimal import Decimal\n",
        "from matplotlib import pyplot as plt"
      ],
      "execution_count": null,
      "outputs": []
    },
    {
      "cell_type": "markdown",
      "metadata": {
        "id": "pJ4wfE-fdI7o"
      },
      "source": [
        "# Problem 6.3"
      ]
    },
    {
      "cell_type": "code",
      "metadata": {
        "id": "w3PVn8Wx-l3w"
      },
      "source": [
        "def I(n):\n",
        "  return (1+0.5/n)**n"
      ],
      "execution_count": null,
      "outputs": []
    },
    {
      "cell_type": "code",
      "metadata": {
        "colab": {
          "base_uri": "https://localhost:8080/",
          "height": 287
        },
        "id": "S4w2L_HR_obY",
        "outputId": "ba2b9e76-ea5d-46ad-ee20-4728a97ed7d1"
      },
      "source": [
        "x = np.arange(1, 16, 0.01)\n",
        "y = np.array([I(10**i) for i in x])\n",
        "\n",
        "plt.xscale('log')\n",
        "plt.plot(10**x,y)\n",
        "plt.plot(x,np.exp(0.5)*np.ones(len(x)), '--')\n",
        "\n",
        "#This graph shows error while approaching value close to 10^16"
      ],
      "execution_count": null,
      "outputs": [
        {
          "output_type": "execute_result",
          "data": {
            "text/plain": [
              "[<matplotlib.lines.Line2D at 0x7fee87f6d5d0>]"
            ]
          },
          "metadata": {},
          "execution_count": 11
        },
        {
          "output_type": "display_data",
          "data": {
            "image/png": "[encoded data removed]",
            "text/plain": [
              "<Figure size 432x288 with 1 Axes>"
            ]
          },
          "metadata": {
            "needs_background": "light"
          }
        }
      ]
    },
    {
      "cell_type": "code",
      "metadata": {
        "colab": {
          "base_uri": "https://localhost:8080/",
          "height": 290
        },
        "id": "PO_eXKpZC9i5",
        "outputId": "69b972ef-2649-40fb-f900-931567c53bd2"
      },
      "source": [
        "x = np.arange(1, 64, 1)\n",
        "y = np.array([I(2**i) for i in x])\n",
        "\n",
        "plt.xscale('log')\n",
        "plt.ylim(1.1, 2)\n",
        "plt.plot(2**x,y)\n",
        "plt.plot(x,np.exp(0.5)*np.ones(len(x)), '--')\n",
        "\n",
        "# This does not produce large errors until after 10**16"
      ],
      "execution_count": null,
      "outputs": [
        {
          "output_type": "execute_result",
          "data": {
            "text/plain": [
              "[<matplotlib.lines.Line2D at 0x7fee87813a10>]"
            ]
          },
          "metadata": {},
          "execution_count": 18
        },
        {
          "output_type": "display_data",
          "data": {
            "image/png": "[encoded data removed]",
            "text/plain": [
              "<Figure size 432x288 with 1 Axes>"
            ]
          },
          "metadata": {
            "needs_background": "light"
          }
        }
      ]
    },
    {
      "cell_type": "markdown",
      "metadata": {
        "id": "M50xwYnodMud"
      },
      "source": [
        "# Problem 7.3 c"
      ]
    },
    {
      "cell_type": "code",
      "metadata": {
        "colab": {
          "base_uri": "https://localhost:8080/"
        },
        "id": "CKk0OqEKdHkX",
        "outputId": "c9e92cc9-2fe1-4440-deab-b237ce923e80"
      },
      "source": [
        "A = np.matrix([[10**(-16), 1], [1,1]])\n",
        "print(A)"
      ],
      "execution_count": null,
      "outputs": [
        {
          "output_type": "stream",
          "name": "stdout",
          "text": [
            "[[1.e-16 1.e+00]\n",
            " [1.e+00 1.e+00]]\n"
          ]
        }
      ]
    },
    {
      "cell_type": "code",
      "metadata": {
        "colab": {
          "base_uri": "https://localhost:8080/"
        },
        "id": "W3ooxqVrdixX",
        "outputId": "7fd11d09-b962-4044-de13-f5b2575d65f4"
      },
      "source": [
        "np.linalg.cond(A)"
      ],
      "execution_count": null,
      "outputs": [
        {
          "output_type": "execute_result",
          "data": {
            "text/plain": [
              "2.6180339887498953"
            ]
          },
          "metadata": {},
          "execution_count": 38
        }
      ]
    }
  ]
}