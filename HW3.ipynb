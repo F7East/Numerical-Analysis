{
  "nbformat": 4,
  "nbformat_minor": 0,
  "metadata": {
    "colab": {
      "provenance": []
    },
    "kernelspec": {
      "name": "python3",
      "display_name": "Python 3"
    },
    "language_info": {
      "name": "python"
    }
  },
  "cells": [
    {
      "cell_type": "markdown",
      "metadata": {
        "id": "irlVv0AC-Tp1"
      },
      "source": [
        "# Problem 6. Q14"
      ]
    },
    {
      "cell_type": "code",
      "metadata": {
        "id": "HTKr5iI3HGUi"
      },
      "source": [
        "import numpy as np\n",
        "from math import floor"
      ],
      "execution_count": null,
      "outputs": []
    },
    {
      "cell_type": "code",
      "metadata": {
        "id": "wnQ4cA017I9K"
      },
      "source": [
        "def f(n):\n",
        "  \"\"\"\n",
        "  Since the distribution is uniform i set every acccount according to this\n",
        "  uniform distribution\n",
        "  \"\"\"\n",
        "  return 100+100000/N*n\n",
        "\n",
        "def truncate(x):\n",
        "  return x - (floor(x*100.))/100.\n",
        "\n",
        "def interest(t):\n",
        "  return (1+5/36500.)**t"
      ],
      "execution_count": null,
      "outputs": []
    },
    {
      "cell_type": "code",
      "metadata": {
        "colab": {
          "base_uri": "https://localhost:8080/"
        },
        "id": "sClwpwueJngA",
        "outputId": "d51e9813-7df0-450d-a5b6-b73e6578ddfe"
      },
      "source": [
        "N = 50000\n",
        "s = 0\n",
        "\n",
        "#create all accounts:\n",
        "\n",
        "accounts = [f(i) for i in range(1, N+1)]\n",
        "\n",
        "# run the simulation where the truncated from each accounts is stolen and put \n",
        "#into criminals acccount, factoring in interest rate\n",
        "\n",
        "t = 0\n",
        "while s < 1000000.:\n",
        "  t += 1\n",
        "  s *= interest(1)\n",
        "  for i in accounts:\n",
        "    s += truncate(i*interest(1))\n",
        "    i = floor(100*i*interest(1))/100\n",
        "print('Number of days to become millionaire:', t)"
      ],
      "execution_count": null,
      "outputs": [
        {
          "output_type": "stream",
          "name": "stdout",
          "text": [
            "Number of days to become millionaire: 3211\n"
          ]
        }
      ]
    },
    {
      "cell_type": "code",
      "metadata": {
        "colab": {
          "base_uri": "https://localhost:8080/"
        },
        "id": "vjpyhBe8-Ntv",
        "outputId": "f5925427-a555-4194-ca8a-beb265b85c9e"
      },
      "source": [
        "N = 100000\n",
        "s = 5000\n",
        "\n",
        "#create all accounts:\n",
        "\n",
        "accounts = [f(i) for i in range(1, N+1)]\n",
        "\n",
        "# run the simulation where the truncated from each accounts is stolen and put \n",
        "#into criminals acccount, factoring in interest rate\n",
        "\n",
        "t = 0\n",
        "while s < 1000000.:\n",
        "  t += 1\n",
        "  s *= interest(1)\n",
        "  for i in accounts:\n",
        "    s += truncate(i*interest(1))\n",
        "    i = floor(100*i*interest(1))/100\n",
        "print('Number of days to become millionaire:', t)"
      ],
      "execution_count": null,
      "outputs": [
        {
          "output_type": "stream",
          "name": "stdout",
          "text": [
            "Number of days to become millionaire: 1771\n"
          ]
        }
      ]
    },
    {
      "cell_type": "markdown",
      "metadata": {
        "id": "uTbaOkuL-cfK"
      },
      "source": [
        "# Problem 5. Q9"
      ]
    },
    {
      "cell_type": "code",
      "metadata": {
        "colab": {
          "base_uri": "https://localhost:8080/"
        },
        "id": "m-gmkU_F-SPf",
        "outputId": "932f82e1-c1a2-4720-dcd7-f0af0bc7bd37"
      },
      "source": [
        "a = 0.1+0.2+0.3\n",
        "b = 0.3+0.2+0.1\n",
        "\n",
        "print('Difference is:', b-a)"
      ],
      "execution_count": null,
      "outputs": [
        {
          "output_type": "stream",
          "name": "stdout",
          "text": [
            "Difference is: -1.1102230246251565e-16\n"
          ]
        }
      ]
    },
    {
      "cell_type": "markdown",
      "metadata": {
        "id": "KU6dAHgi-vyD"
      },
      "source": [
        "#Problem 1. Q14"
      ]
    },
    {
      "cell_type": "code",
      "metadata": {
        "colab": {
          "base_uri": "https://localhost:8080/"
        },
        "id": "n0vFhCq--vDu",
        "outputId": "c184d8d4-e4e3-447a-adb5-cb571295b05e"
      },
      "source": [
        "x = 0.5\n",
        "\n",
        "while abs(np.cos(x)-x) > 10**(-8):\n",
        "  x = np.cos(x)\n",
        "  print(x)"
      ],
      "execution_count": null,
      "outputs": [
        {
          "output_type": "stream",
          "name": "stdout",
          "text": [
            "0.8775825618903728\n",
            "0.6390124941652592\n",
            "0.8026851006823349\n",
            "0.6947780267880062\n",
            "0.7681958312820161\n",
            "0.719165445942419\n",
            "0.752355759421527\n",
            "0.7300810631378233\n",
            "0.7451203413514401\n",
            "0.7350063090148431\n",
            "0.7418265226432459\n",
            "0.7372357254422314\n",
            "0.7403296518782632\n",
            "0.7382462383322335\n",
            "0.7396499627696612\n",
            "0.7387045393569833\n",
            "0.7393414522812101\n",
            "0.7389124493321031\n",
            "0.739201444135799\n",
            "0.739006779780813\n",
            "0.7391379107622928\n",
            "0.7390495805952085\n",
            "0.7391090814205267\n",
            "0.7390690012040115\n",
            "0.7390959998357547\n",
            "0.7390778132851752\n",
            "0.739090063988251\n",
            "0.7390818117781094\n",
            "0.7390873705710358\n",
            "0.7390836261034798\n",
            "0.7390861484228788\n",
            "0.7390844493586487\n",
            "0.7390855938689606\n",
            "0.7390848229131413\n",
            "0.739085342238298\n",
            "0.7390849924146448\n",
            "0.7390852280600745\n",
            "0.7390850693264824\n",
            "0.7390851762513413\n",
            "0.739085104225471\n",
            "0.7390851527429639\n",
            "0.7390851200609972\n",
            "0.7390851420759633\n",
            "0.7390851272464174\n"
          ]
        }
      ]
    },
    {
      "cell_type": "code",
      "metadata": {
        "id": "EbQ4h8bI_I5H"
      },
      "source": [
        "a = 12.016666666\n",
        "hour = int(a)\n",
        "minute = round(a % 1 *60)\n",
        "\n",
        "print( hour, ':', (minute < 10) * ('0' + str(minute)) + (minute >= 10) * (str(minute)))"
      ],
      "execution_count": null,
      "outputs": []
    },
    {
      "cell_type": "code",
      "metadata": {
        "id": "iwdvkNfPwBvC"
      },
      "source": [
        "dic = {1:'a', 2:'b', 3:'c'}"
      ],
      "execution_count": null,
      "outputs": []
    },
    {
      "cell_type": "code",
      "metadata": {
        "colab": {
          "base_uri": "https://localhost:8080/"
        },
        "id": "TJLTZ4_NypZm",
        "outputId": "214f9023-63fd-4a88-d6f0-498592b7e4f8"
      },
      "source": [
        "y = [dic[key] for key in dic]\n",
        "print(x)"
      ],
      "execution_count": null,
      "outputs": [
        {
          "output_type": "stream",
          "name": "stdout",
          "text": [
            "['a', 'b', 'c']\n"
          ]
        }
      ]
    },
    {
      "cell_type": "code",
      "metadata": {
        "colab": {
          "base_uri": "https://localhost:8080/"
        },
        "id": "Zn-s4vi5ywV0",
        "outputId": "6150c99f-a212-4db2-c696-efa2b179c3e2"
      },
      "source": [
        "[key for key in dic]"
      ],
      "execution_count": null,
      "outputs": [
        {
          "output_type": "execute_result",
          "data": {
            "text/plain": [
              "[1, 2, 3]"
            ]
          },
          "metadata": {},
          "execution_count": 40
        }
      ]
    },
    {
      "cell_type": "code",
      "metadata": {
        "id": "1qwTWr_-zF5j"
      },
      "source": [],
      "execution_count": null,
      "outputs": []
    }
  ]
}