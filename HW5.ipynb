{
  "nbformat": 4,
  "nbformat_minor": 0,
  "metadata": {
    "colab": {
      "provenance": []
    },
    "kernelspec": {
      "name": "python3",
      "display_name": "Python 3"
    },
    "language_info": {
      "name": "python"
    }
  },
  "cells": [
    {
      "cell_type": "markdown",
      "metadata": {
        "id": "nnpCKnq7aFTm"
      },
      "source": [
        "# Problem 15.b"
      ]
    },
    {
      "cell_type": "code",
      "metadata": {
        "id": "SRtpwa71Id6Z"
      },
      "source": [
        "from scipy.stats import linregress as lin\n",
        "from scipy.optimize import least_squares as lst\n",
        "import numpy as np\n",
        "from matplotlib import pyplot as plt\n",
        "%matplotlib inline"
      ],
      "execution_count": null,
      "outputs": []
    },
    {
      "cell_type": "code",
      "metadata": {
        "colab": {
          "base_uri": "https://localhost:8080/"
        },
        "id": "FoXK6npfIJlo",
        "outputId": "40297d37-5e04-4b0e-c8ed-252c616a4567"
      },
      "source": [
        "h = np.array([0.282, 0.564, 0.752, 0.940])\n",
        "d = np.array([0.752, 1.102, 1.248, 1.410])\n",
        "\n",
        "# a linear regression between h and d \n",
        "c1, c0, r, p, std = lin(np.sqrt(h),d)\n",
        "print('c0 =', c0, 'c1 =', c0 )"
      ],
      "execution_count": null,
      "outputs": [
        {
          "output_type": "stream",
          "name": "stdout",
          "text": [
            "c0 = -0.0323941205070335 c1 = -0.0323941205070335\n"
          ]
        }
      ]
    },
    {
      "cell_type": "code",
      "metadata": {
        "colab": {
          "base_uri": "https://localhost:8080/",
          "height": 296
        },
        "id": "NU386OplIcYj",
        "outputId": "58e4b428-8d98-4983-dbdd-41f3770899df"
      },
      "source": [
        "# ploting the linear fit of sqrt(h) ~ d\n",
        "\n",
        "plt.grid()\n",
        "plt.plot(np.sqrt(h),d, '.')\n",
        "plt.plot(np.sqrt(h), c0 + c1*np.sqrt(h))\n",
        "plt.ylabel('$\\sqrt{Release\\;height}$')\n",
        "plt.xlabel('Horizontal distance')"
      ],
      "execution_count": null,
      "outputs": [
        {
          "output_type": "execute_result",
          "data": {
            "text/plain": [
              "Text(0.5, 0, 'Horizontal distance')"
            ]
          },
          "metadata": {},
          "execution_count": 3
        },
        {
          "output_type": "display_data",
          "data": {
            "image/png": "[encoded data removed]",
            "text/plain": [
              "<Figure size 432x288 with 1 Axes>"
            ]
          },
          "metadata": {
            "needs_background": "light"
          }
        }
      ]
    },
    {
      "cell_type": "code",
      "metadata": {
        "id": "YXkjg-fsJ5iG"
      },
      "source": [
        "def residual_norm(x,y):\n",
        "  \"\"\"\n",
        "  This function takes x and y ≈ f(x) and calculates the residual norm of a linear fit\n",
        "  \"\"\"\n",
        "  slope, intercept, rvalue, pvalue, stderr = lin(x,y)\n",
        "\n",
        "  def line(a):\n",
        "      \"\"\"\n",
        "      This function computes f(a)\n",
        "      \"\"\"\n",
        "      return intercept + slope*a\n",
        "  \n",
        "  resnorm = np.sqrt(sum([ (y[i] - line(x[i]))**2 for i in range(len(x))]))\n",
        "  return resnorm"
      ],
      "execution_count": null,
      "outputs": []
    },
    {
      "cell_type": "code",
      "metadata": {
        "colab": {
          "base_uri": "https://localhost:8080/"
        },
        "id": "vCtIpm-NjAQP",
        "outputId": "c3c90999-531a-471c-85a3-1a43d22debad"
      },
      "source": [
        "print('residual norm is: ', residual_norm(np.sqrt(h), d))"
      ],
      "execution_count": null,
      "outputs": [
        {
          "output_type": "stream",
          "name": "stdout",
          "text": [
            "residual norm is:  0.020459943922880936\n"
          ]
        }
      ]
    },
    {
      "cell_type": "code",
      "metadata": {
        "id": "ziH_DhGTk9P7"
      },
      "source": [],
      "execution_count": null,
      "outputs": []
    }
  ]
}