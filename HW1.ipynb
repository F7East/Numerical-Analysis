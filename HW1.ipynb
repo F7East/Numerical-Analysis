{
  "nbformat": 4,
  "nbformat_minor": 5,
  "metadata": {
    "kernelspec": {
      "display_name": "Python 3",
      "language": "python",
      "name": "python3"
    },
    "language_info": {
      "codemirror_mode": {
        "name": "ipython",
        "version": 3
      },
      "file_extension": ".py",
      "mimetype": "text/x-python",
      "name": "python",
      "nbconvert_exporter": "python",
      "pygments_lexer": "ipython3",
      "version": "3.8.2"
    },
    "colab": {
      "provenance": []
    }
  },
  "cells": [
    {
      "cell_type": "markdown",
      "metadata": {
        "id": "6b2ccfe0"
      },
      "source": [
        "## Importing libraries"
      ],
      "id": "6b2ccfe0"
    },
    {
      "cell_type": "code",
      "metadata": {
        "id": "d5321388"
      },
      "source": [
        "import numpy as np\n",
        "import matplotlib.pyplot as plt\n",
        "from scipy.stats import norm\n",
        "%matplotlib inline"
      ],
      "id": "d5321388",
      "execution_count": null,
      "outputs": []
    },
    {
      "cell_type": "markdown",
      "metadata": {
        "id": "be6ec838"
      },
      "source": [
        "# Problem 1"
      ],
      "id": "be6ec838"
    },
    {
      "cell_type": "code",
      "metadata": {
        "id": "653a542b"
      },
      "source": [
        "# creating a random set of 1000 numbers between 1 and 6 \n",
        "\n",
        "thousand_ones = np.ones(1000)\n",
        "random_set = np.random.randint(thousand_ones, thousand_ones*7)"
      ],
      "id": "653a542b",
      "execution_count": null,
      "outputs": []
    },
    {
      "cell_type": "code",
      "metadata": {
        "colab": {
          "base_uri": "https://localhost:8080/"
        },
        "id": "594d3ca1",
        "outputId": "48127221-b7e7-4e80-a976-b7d8df1c8a29"
      },
      "source": [
        "# counting frequencies of apperiences in a single run of 1000\n",
        "run_zero = {i: np.count_nonzero(random_set == i) for i in range(1,7)}\n",
        "run_zero"
      ],
      "id": "594d3ca1",
      "execution_count": null,
      "outputs": [
        {
          "output_type": "execute_result",
          "data": {
            "text/plain": [
              "{1: 150, 2: 181, 3: 171, 4: 168, 5: 171, 6: 159}"
            ]
          },
          "metadata": {},
          "execution_count": 3
        }
      ]
    },
    {
      "cell_type": "code",
      "metadata": {
        "colab": {
          "base_uri": "https://localhost:8080/"
        },
        "id": "783692aa",
        "outputId": "d25566fe-8deb-4130-d22a-b126bcdf6fca"
      },
      "source": [
        "# calculating the average and standard deviation\n",
        "\n",
        "average = np.average(random_set)\n",
        "std = np.std(random_set)\n",
        "\n",
        "print('average: ', average, ' standard deviation: ', std)"
      ],
      "id": "783692aa",
      "execution_count": null,
      "outputs": [
        {
          "output_type": "stream",
          "name": "stdout",
          "text": [
            "average:  3.506  standard deviation:  1.6756980634947336\n"
          ]
        }
      ]
    },
    {
      "cell_type": "code",
      "metadata": {
        "colab": {
          "base_uri": "https://localhost:8080/",
          "height": 460
        },
        "id": "42ea198c",
        "outputId": "734d1bdc-88a1-48d8-bbc3-110959043fc6"
      },
      "source": [
        "# a historgram of the frequencies\n",
        "\n",
        "x = np.arange(1, 8, 1)\n",
        "fig, ax = plt.subplots(figsize = (10,7))\n",
        "ax.hist(random_set, x, rwidth = 0.5, align = 'left')\n",
        "ax.set_xlabel('Dice Roll')\n",
        "ax.set_ylabel('Number of appearances')\n",
        "ax.set_title('$A_{1000}$ run histogram')\n",
        "\n",
        "plt.show()"
      ],
      "id": "42ea198c",
      "execution_count": null,
      "outputs": [
        {
          "output_type": "display_data",
          "data": {
            "image/png": "[encoded data removed]",
            "text/plain": [
              "<Figure size 720x504 with 1 Axes>"
            ]
          },
          "metadata": {
            "needs_background": "light"
          }
        }
      ]
    },
    {
      "cell_type": "code",
      "metadata": {
        "id": "11b6f49f"
      },
      "source": [
        "def average1000():\n",
        "    \"\"\"\n",
        "    This is a function that returns average dice value of a single random 1000 rolls run\n",
        "    \"\"\"\n",
        "    thousand_ones = np.ones(1000)\n",
        "    return np.average(np.random.randint(thousand_ones, thousand_ones*7))"
      ],
      "id": "11b6f49f",
      "execution_count": null,
      "outputs": []
    },
    {
      "cell_type": "code",
      "metadata": {
        "id": "28e314e2"
      },
      "source": [
        "# creating an array of average values in 100 runs\n",
        "\n",
        "hundred_runs = [average1000() for i in range(10000)]"
      ],
      "id": "28e314e2",
      "execution_count": null,
      "outputs": []
    },
    {
      "cell_type": "code",
      "metadata": {
        "colab": {
          "base_uri": "https://localhost:8080/",
          "height": 460
        },
        "id": "d6d02f5e",
        "outputId": "d2244844-42e2-4728-f56a-26510a2416f7"
      },
      "source": [
        "# creating a histogram for 100 runs of A_1000\n",
        "\n",
        "fig, ax = plt.subplots(figsize = (10,7))\n",
        "y,x,_ = ax.hist(hundred_runs, 25, rwidth = 0.75, align = 'mid')\n",
        "ax.set_xlabel('Average value')\n",
        "ax.set_ylabel('Number of appearances')\n",
        "ax.set_title(\"100 $A_{1000}$ 's run histogram\")\n",
        "\n",
        "#plotting a Normal distribution approximation\n",
        "\n",
        "xaxis = np.arange(3.3,3.7, 0.001)\n",
        "mean = np.average(hundred_runs)\n",
        "std = np.std(hundred_runs)\n",
        "plt.plot(xaxis, max(y)/max(norm.pdf(xaxis, mean, std))*norm.pdf(xaxis, mean, std), 'r--', label = 'Normal distribution approximation')\n",
        "plt.legend()\n",
        "plt.show()"
      ],
      "id": "d6d02f5e",
      "execution_count": null,
      "outputs": [
        {
          "output_type": "display_data",
          "data": {
            "image/png": "[encoded data removed]",
            "text/plain": [
              "<Figure size 720x504 with 1 Axes>"
            ]
          },
          "metadata": {
            "needs_background": "light"
          }
        }
      ]
    },
    {
      "cell_type": "code",
      "metadata": {
        "id": "ubW4uU-l18QI",
        "outputId": "f3bc20e4-d59f-4bfb-c00a-6b49d1e7848c",
        "colab": {
          "base_uri": "https://localhost:8080/"
        }
      },
      "source": [
        "mean"
      ],
      "id": "ubW4uU-l18QI",
      "execution_count": null,
      "outputs": [
        {
          "output_type": "execute_result",
          "data": {
            "text/plain": [
              "3.5002771999999998"
            ]
          },
          "metadata": {},
          "execution_count": 31
        }
      ]
    },
    {
      "cell_type": "code",
      "metadata": {
        "id": "mE59DXWh1-JY",
        "outputId": "8bb10d1d-5ec7-459e-8702-4dc257796706",
        "colab": {
          "base_uri": "https://localhost:8080/"
        }
      },
      "source": [
        "std"
      ],
      "id": "mE59DXWh1-JY",
      "execution_count": null,
      "outputs": [
        {
          "output_type": "execute_result",
          "data": {
            "text/plain": [
              "0.054178316328213814"
            ]
          },
          "metadata": {},
          "execution_count": 32
        }
      ]
    },
    {
      "cell_type": "markdown",
      "metadata": {
        "id": "151c8463"
      },
      "source": [
        "# Problem 2"
      ],
      "id": "151c8463"
    },
    {
      "cell_type": "code",
      "metadata": {
        "colab": {
          "base_uri": "https://localhost:8080/"
        },
        "id": "ab0cf08a",
        "outputId": "ea9202f2-196c-4e15-c953-7931ec106cba"
      },
      "source": [
        "# creating doors, a lucky door and unlucky ones for keeping track\n",
        "doors = np.arange(1,8)\n",
        "\n",
        "lucky_door = np.random.randint(1,8)\n",
        "print('lucky door is', lucky_door)\n",
        "\n",
        "unlucky = np.delete(doors, np.where(doors == lucky_door))\n",
        "print('unlucky doors are ', unlucky)"
      ],
      "id": "ab0cf08a",
      "execution_count": null,
      "outputs": [
        {
          "output_type": "stream",
          "name": "stdout",
          "text": [
            "lucky door is 5\n",
            "unlucky doors are  [1 2 3 4 6 7]\n"
          ]
        }
      ]
    },
    {
      "cell_type": "code",
      "metadata": {
        "colab": {
          "base_uri": "https://localhost:8080/"
        },
        "id": "71d297d9",
        "outputId": "0f2b63f8-5013-4635-ebe8-478218596cb2"
      },
      "source": [
        "# simulation guests choice of three random doors followed by host choice of non-guest non-lucky doors\n",
        "\n",
        "guest = np.random.choice(doors, 3, replace = False)\n",
        "\n",
        "print('guest rooms are', guest)\n",
        "\n",
        "host = []\n",
        "for i in doors:\n",
        "    if i not in guest and i != lucky_door:\n",
        "        host.append(i)\n",
        "    if len(host) > 3:\n",
        "        host = host[:-1]\n",
        "host = np.array(host)\n",
        "print('host  rooms are', host)"
      ],
      "id": "71d297d9",
      "execution_count": null,
      "outputs": [
        {
          "output_type": "stream",
          "name": "stdout",
          "text": [
            "guest rooms are [4 2 1]\n",
            "host  rooms are [3 6 7]\n"
          ]
        }
      ]
    },
    {
      "cell_type": "code",
      "metadata": {
        "id": "2ed863e1"
      },
      "source": [
        "# here we simulate \"number\" of runs of guest choosing a strategy of switching the doors\n",
        "result = []\n",
        "number = 1000000\n",
        "    \n",
        "for i in range(number):\n",
        "    doors = np.arange(1,8)\n",
        "    lucky_door = np.random.randint(1,8)\n",
        "\n",
        "    guest = np.random.choice(doors, 3, replace = False)\n",
        "\n",
        "    if lucky_door not in guest:\n",
        "        result.append(1)\n",
        "    else:\n",
        "        result.append(0)"
      ],
      "id": "2ed863e1",
      "execution_count": null,
      "outputs": []
    },
    {
      "cell_type": "code",
      "metadata": {
        "scrolled": true,
        "colab": {
          "base_uri": "https://localhost:8080/"
        },
        "id": "48266aaf",
        "outputId": "dda095df-f161-4b39-dcc6-ab7a5000aa2c"
      },
      "source": [
        "print('probabilty of winning using the strategy is:', np.average(result))\n",
        "print('standard deviation is: ', np.std(result)/np.sqrt(len(result)))\n",
        "print('the true value of 4/7 is:', 4/7)\n",
        "print('the difference is', abs((np.average(result) - 4/7)/(np.std(result)/np.sqrt(len(result)))), 'standrad deviations')"
      ],
      "id": "48266aaf",
      "execution_count": null,
      "outputs": [
        {
          "output_type": "stream",
          "name": "stdout",
          "text": [
            "probabilty of winning using the strategy is: 0.570797\n",
            "standard deviation is:  0.0004949624074523237\n",
            "the true value of 4/7 is: 0.5714285714285714\n",
            "the difference is 1.2759987810432512 standrad deviations\n"
          ]
        }
      ]
    },
    {
      "cell_type": "markdown",
      "metadata": {
        "id": "29826f06"
      },
      "source": [
        "# Problem 3"
      ],
      "id": "29826f06"
    },
    {
      "cell_type": "code",
      "metadata": {
        "id": "fb4d3f62"
      },
      "source": [
        "def f():\n",
        "  \"\"\"\n",
        "  This function returns a uniformly distributed on [0,1] random variable value\n",
        "  \"\"\"\n",
        "  return np.random.random()"
      ],
      "id": "fb4d3f62",
      "execution_count": null,
      "outputs": []
    },
    {
      "cell_type": "code",
      "metadata": {
        "id": "fe68ccf0"
      },
      "source": [
        "def g(x):\n",
        "  \"\"\"\n",
        "  This function squares the value\n",
        "  \"\"\"\n",
        "  return x**2"
      ],
      "id": "fe68ccf0",
      "execution_count": null,
      "outputs": []
    },
    {
      "cell_type": "code",
      "metadata": {
        "colab": {
          "base_uri": "https://localhost:8080/",
          "height": 567
        },
        "id": "402d5d46",
        "outputId": "0d2eb59d-4db9-4351-89e1-04977acbb7a6"
      },
      "source": [
        "# creating a distribution of f^2\n",
        "\n",
        "bins = 50 \n",
        "test = [g(f()) for i in range(100000)]\n",
        "fig, ax = plt.subplots(figsize = (13,9))\n",
        "y,x,z = ax.hist(test, bins, rwidth = 0.75)\n",
        "\n",
        "ax.set_xlabel('Generated value')\n",
        "ax.set_ylabel('Number of appearances')\n",
        "ax.set_title(\"Distribution of x^2\")\n",
        "\n",
        "# plotting 1/(2sqrt(x)) probability density function scaled up\n",
        "\n",
        "line = 1/(2*np.sqrt(np.array(x[1:])))\n",
        "line = line*2*y[-1]\n",
        "plt.plot(x[1:], line, 'r--', label = \"$\\\\frac{1}{2\\\\sqrt{x}}$\", linewidth = 3)\n",
        "plt.legend(prop = {'size' : 20})\n",
        "\n",
        "plt.show()"
      ],
      "id": "402d5d46",
      "execution_count": null,
      "outputs": [
        {
          "output_type": "display_data",
          "data": {
            "image/png": "[encoded data removed]",
            "text/plain": [
              "<Figure size 936x648 with 1 Axes>"
            ]
          },
          "metadata": {
            "needs_background": "light"
          }
        }
      ]
    },
    {
      "cell_type": "markdown",
      "metadata": {
        "id": "580107ae"
      },
      "source": [
        "# Problem 4"
      ],
      "id": "580107ae"
    },
    {
      "cell_type": "code",
      "metadata": {
        "id": "cbc1cf9d"
      },
      "source": [
        "def f(x):\n",
        "  \"\"\"\n",
        "  This is the function we need to integrate. It returns a multiplication of all 10 elements of an array\n",
        "  \"\"\"\n",
        "  a = 1\n",
        "  for i in x:\n",
        "      a *= i\n",
        "  return a"
      ],
      "id": "cbc1cf9d",
      "execution_count": null,
      "outputs": []
    },
    {
      "cell_type": "code",
      "metadata": {
        "id": "ddeea23c"
      },
      "source": [
        "# generating randoms dots in [0,2] cube in 10th dimension 1000000 times\n",
        "dots = 2*np.random.random([1000000,10])"
      ],
      "id": "ddeea23c",
      "execution_count": null,
      "outputs": []
    },
    {
      "cell_type": "code",
      "metadata": {
        "id": "f0c50e65"
      },
      "source": [
        "# computing f values at the generated dots\n",
        "fdots = [f(i) for i in dots]"
      ],
      "id": "f0c50e65",
      "execution_count": null,
      "outputs": []
    },
    {
      "cell_type": "code",
      "metadata": {
        "colab": {
          "base_uri": "https://localhost:8080/"
        },
        "id": "4d295876",
        "outputId": "8864a2c9-86f3-4629-b227-8224cbc425e7"
      },
      "source": [
        "# calculating the integral using I = V/N*sum(f(x_i)) where V is the volume and N is the number of dots\n",
        "\n",
        "integral = sum(fdots)/len(fdots)*2**10\n",
        "print('The integral value is ', integral)"
      ],
      "id": "4d295876",
      "execution_count": null,
      "outputs": [
        {
          "output_type": "stream",
          "name": "stdout",
          "text": [
            "The integral value is  1021.4148576956087\n"
          ]
        }
      ]
    },
    {
      "cell_type": "code",
      "metadata": {
        "colab": {
          "base_uri": "https://localhost:8080/"
        },
        "id": "16e2043c",
        "outputId": "657a4173-3fbd-411e-d8fe-7d93250c3d21"
      },
      "source": [
        "error = np.std(fdots)/np.sqrt(len(fdots))*2**10\n",
        "print('Standard deviation is ', error)"
      ],
      "id": "16e2043c",
      "execution_count": null,
      "outputs": [
        {
          "output_type": "stream",
          "name": "stdout",
          "text": [
            "Standard deviation is  4.121435365535918\n"
          ]
        }
      ]
    },
    {
      "cell_type": "code",
      "metadata": {
        "colab": {
          "base_uri": "https://localhost:8080/"
        },
        "id": "1b9f2f1c",
        "outputId": "091c0fae-097b-4fff-9607-8b77dd2fc3a9"
      },
      "source": [
        "difference = (integral - 2**10)/error\n",
        "print('The difference is ', abs(difference) , 'standard deviations')"
      ],
      "id": "1b9f2f1c",
      "execution_count": null,
      "outputs": [
        {
          "output_type": "stream",
          "name": "stdout",
          "text": [
            "The difference is  0.6272431993010635 standard deviations\n"
          ]
        }
      ]
    },
    {
      "cell_type": "code",
      "metadata": {
        "id": "ef5a0367"
      },
      "source": [
        "# a block repeating the same procedure for a \"number\" of randomly generated dots\n",
        "def run(number):\n",
        "    dots = 2*np.random.random([number,10])\n",
        "    fdots = [f(i) for i in dots]\n",
        "    integral = sum(fdots)/len(fdots)*2**10\n",
        "    error = np.std(fdots)/np.sqrt(len(fdots))*2**10\n",
        "    difference = (integral - 2**10)/error\n",
        "\n",
        "    print('The value is:', integral, 'standard deviation is:', error)\n",
        "    print('The difference is ', abs(difference) , 'standard deviations')"
      ],
      "id": "ef5a0367",
      "execution_count": null,
      "outputs": []
    },
    {
      "cell_type": "code",
      "metadata": {
        "colab": {
          "base_uri": "https://localhost:8080/"
        },
        "id": "3239659c",
        "outputId": "06be7ad7-7970-459f-d4ea-87b888765415"
      },
      "source": [
        "# N = 10000\n",
        "run(10000)"
      ],
      "id": "3239659c",
      "execution_count": null,
      "outputs": [
        {
          "output_type": "stream",
          "name": "stdout",
          "text": [
            "The value is: 1022.9361723825901 standard deviation is: 43.09312314453917\n",
            "The difference is  0.024686714254654026 standard deviations\n"
          ]
        }
      ]
    },
    {
      "cell_type": "code",
      "metadata": {
        "colab": {
          "base_uri": "https://localhost:8080/"
        },
        "id": "9e537e86",
        "outputId": "6cb9ebd5-5318-4672-ed8b-8dfd24a224c6"
      },
      "source": [
        "# N = 40000\n",
        "run(40000)"
      ],
      "id": "9e537e86",
      "execution_count": null,
      "outputs": [
        {
          "output_type": "stream",
          "name": "stdout",
          "text": [
            "The value is: 1039.131631712487 standard deviation is: 20.757050376586193\n",
            "The difference is  0.728987569908071 standard deviations\n"
          ]
        }
      ]
    },
    {
      "cell_type": "code",
      "metadata": {
        "colab": {
          "base_uri": "https://localhost:8080/"
        },
        "id": "6a406fa1",
        "outputId": "b7d2a656-e891-4708-a035-a183c4a3fa1f"
      },
      "source": [
        "# N = 160000\n",
        "run(160000)"
      ],
      "id": "6a406fa1",
      "execution_count": null,
      "outputs": [
        {
          "output_type": "stream",
          "name": "stdout",
          "text": [
            "The value is: 1020.5516316967256 standard deviation is: 10.660559225006029\n",
            "The difference is  0.3234697383590989 standard deviations\n"
          ]
        }
      ]
    },
    {
      "cell_type": "code",
      "metadata": {
        "id": "01e7eedb",
        "colab": {
          "base_uri": "https://localhost:8080/"
        },
        "outputId": "4ad7e493-d411-48e0-8ff8-abe12a852fff"
      },
      "source": [
        "# N = 10000000\n",
        "run(10000000)"
      ],
      "id": "01e7eedb",
      "execution_count": null,
      "outputs": [
        {
          "output_type": "stream",
          "name": "stdout",
          "text": [
            "The value is: 1023.6424808272262 standard deviation is: 1.323195016728883\n",
            "The difference is  0.2701938627743726 standard deviations\n"
          ]
        }
      ]
    },
    {
      "cell_type": "code",
      "metadata": {
        "colab": {
          "base_uri": "https://localhost:8080/"
        },
        "id": "nC3E1Kt90_Ih",
        "outputId": "f1eaa041-c3d1-40b9-8527-711a9f01172d"
      },
      "source": [
        "np.std(np.arange(1,7))/np.sqrt(1000)"
      ],
      "id": "nC3E1Kt90_Ih",
      "execution_count": null,
      "outputs": [
        {
          "output_type": "execute_result",
          "data": {
            "text/plain": [
              "0.05400617248673217"
            ]
          },
          "metadata": {},
          "execution_count": 29
        }
      ]
    },
    {
      "cell_type": "code",
      "metadata": {
        "id": "a_VE1CZD1CjJ"
      },
      "source": [],
      "id": "a_VE1CZD1CjJ",
      "execution_count": null,
      "outputs": []
    }
  ]
}