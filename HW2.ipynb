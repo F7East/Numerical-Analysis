{
  "nbformat": 4,
  "nbformat_minor": 0,
  "metadata": {
    "colab": {
      "provenance": []
    },
    "kernelspec": {
      "name": "python3",
      "display_name": "Python 3"
    },
    "language_info": {
      "name": "python"
    }
  },
  "cells": [
    {
      "cell_type": "markdown",
      "metadata": {
        "id": "XkEaZ_F6TcU3"
      },
      "source": [
        "# Importing libraries\n"
      ]
    },
    {
      "cell_type": "code",
      "metadata": {
        "id": "-8gO1by_TbGf"
      },
      "source": [
        "import numpy as np\n",
        "from matplotlib import pyplot as plt\n",
        "import scipy\n",
        "%matplotlib inline\n",
        "from decimal import Decimal"
      ],
      "execution_count": null,
      "outputs": []
    },
    {
      "cell_type": "markdown",
      "metadata": {
        "id": "NfVC24DRSO6s"
      },
      "source": [
        "# Problem 1. Q2\n",
        "\n",
        "*Use MATLAB to plot the function   (x) = (5 − x) exp(x)−5, for x between 0\n",
        "and 5. (This function is associated with the Wien radiation law, which gives a method to estimate the surface temperature of a star.)*"
      ]
    },
    {
      "cell_type": "code",
      "metadata": {
        "colab": {
          "base_uri": "https://localhost:8080/",
          "height": 312
        },
        "id": "ZS5ZwijBSRcj",
        "outputId": "e428df67-dc34-4794-cf3f-5c0dad3d5eee"
      },
      "source": [
        "# plotting the curve\n",
        "\n",
        "def func(x):\n",
        "  return (5-x)*np.exp(x)-5\n",
        "\n",
        "x = np.arange(0,5,0.01)\n",
        "y = func(x)\n",
        "\n",
        "plt.xlabel('x')\n",
        "plt.ylabel('y')\n",
        "plt.title('f(x)')\n",
        "plt.plot(x,y)"
      ],
      "execution_count": null,
      "outputs": [
        {
          "output_type": "execute_result",
          "data": {
            "text/plain": [
              "[<matplotlib.lines.Line2D at 0x7f4b0f0adc10>]"
            ]
          },
          "metadata": {},
          "execution_count": 2
        },
        {
          "output_type": "display_data",
          "data": {
            "image/png": "[encoded data removed]",
            "text/plain": [
              "<Figure size 432x288 with 1 Axes>"
            ]
          },
          "metadata": {
            "needs_background": "light"
          }
        }
      ]
    },
    {
      "cell_type": "markdown",
      "metadata": {
        "id": "opYkcQ-ITVJV"
      },
      "source": [
        "## a) \n",
        "\n",
        "*Write a bisection routine or use routine bisect available from the book’s web page to find a root of   (x) in the interval [4, 5], accurate to six\n",
        "decimal places (i.e., find an interval of width at most 10−6 that contains the root, so that the midpoint of this interval is within 5 × 10−7 of the root). At each step, print out the endpoints of the smallest interval known to contain a root. Without running the code further, answer the following: How many steps would be required to reduce the size of this\n",
        "interval to 10−12? Explain your answer.*"
      ]
    },
    {
      "cell_type": "markdown",
      "metadata": {
        "id": "HGo5T3I7U_dp"
      },
      "source": [
        "To achive the desired accuracy we need $\\frac{b-a}{2^k} = 10^{-12} \\rightarrow k = \\log_{2}{10^{12}} = 12 \\log_{2}{10} = 39.8 $ \\\\\n",
        "Rounding up we get 40 steps. "
      ]
    },
    {
      "cell_type": "code",
      "metadata": {
        "colab": {
          "base_uri": "https://localhost:8080/"
        },
        "id": "PEFkdKb7UcWm",
        "outputId": "4dc845f9-238c-4ef8-8b67-4e6adbf61290"
      },
      "source": [
        "a = 4\n",
        "b = 5\n",
        "\n",
        "error = 10**(-6)\n",
        "\n",
        "def mid(a,b):\n",
        "  return (a+b)/2\n",
        "\n",
        "counter = 0\n",
        "\n",
        "while b-a > error and counter < 100:\n",
        "  if func(mid(a,b))*func(a) > 0:\n",
        "    a = mid(a,b)\n",
        "  elif func(mid(a,b))*func(b) > 0:\n",
        "    b = mid(a,b)\n",
        "  else:\n",
        "    print('wtf')\n",
        "    break\n",
        "  counter += 1\n",
        "  print('Step', counter ,':', [round(a,6),round(b,6)])\n",
        "\n",
        "print('The root is:', round(mid(a,b), int(-np.log10(error))), '+/-', round((b-a)/2, 7)) # change to proper formating later"
      ],
      "execution_count": null,
      "outputs": [
        {
          "output_type": "stream",
          "name": "stdout",
          "text": [
            "Step 1 : [4.5, 5]\n",
            "Step 2 : [4.75, 5]\n",
            "Step 3 : [4.875, 5]\n",
            "Step 4 : [4.9375, 5]\n",
            "Step 5 : [4.9375, 4.96875]\n",
            "Step 6 : [4.953125, 4.96875]\n",
            "Step 7 : [4.960938, 4.96875]\n",
            "Step 8 : [4.964844, 4.96875]\n",
            "Step 9 : [4.964844, 4.966797]\n",
            "Step 10 : [4.964844, 4.96582]\n",
            "Step 11 : [4.964844, 4.965332]\n",
            "Step 12 : [4.965088, 4.965332]\n",
            "Step 13 : [4.965088, 4.96521]\n",
            "Step 14 : [4.965088, 4.965149]\n",
            "Step 15 : [4.965088, 4.965118]\n",
            "Step 16 : [4.965103, 4.965118]\n",
            "Step 17 : [4.965111, 4.965118]\n",
            "Step 18 : [4.965111, 4.965115]\n",
            "Step 19 : [4.965113, 4.965115]\n",
            "Step 20 : [4.965114, 4.965115]\n",
            "The root is: 4.965114 +/- 5e-07\n"
          ]
        }
      ]
    },
    {
      "cell_type": "markdown",
      "metadata": {
        "id": "65wECRphaCC8"
      },
      "source": [
        "Repeating the code for $10^{-12}$:"
      ]
    },
    {
      "cell_type": "code",
      "metadata": {
        "colab": {
          "base_uri": "https://localhost:8080/"
        },
        "id": "hBfVIwE5Y_fk",
        "outputId": "3eedc69c-7194-40ee-d222-62676f5c5bb3"
      },
      "source": [
        "a = 4\n",
        "b = 5\n",
        "error = 10**(-12)\n",
        "def mid(a,b):\n",
        "  return (a+b)/2\n",
        "counter = 0\n",
        "while b-a > error and counter < 100:\n",
        "  if func(mid(a,b))*func(a) > 0:\n",
        "    a = mid(a,b)\n",
        "  else: \n",
        "    b = mid(a,b)\n",
        "  counter += 1\n",
        "print('Number of steps required to achieve the accuracy of 10^-12 is:', counter)"
      ],
      "execution_count": null,
      "outputs": [
        {
          "output_type": "stream",
          "name": "stdout",
          "text": [
            "Number of steps required to achieve the accuracy of 10^-12 is: 40\n"
          ]
        }
      ]
    },
    {
      "cell_type": "markdown",
      "metadata": {
        "id": "qhYw-3G8a3NW"
      },
      "source": [
        "## b)\n",
        "\n",
        "*Write a routine to use Newton’s method or use routine newton available\n",
        "from the book’s web page to find a root of   (x), using initial guess x0 = 5. Print out your approximate solution xk and the value of   (xk) at each\n",
        "step and run until |   (xk)| ≤ 10−8. Without running the code further, but perhaps using information from your code about the rate at which |\n",
        "(xk)| is reduced, can you estimate how many more steps would be required to make |   (xk)| ≤ 10−16 (assuming that your machine carried\n",
        "enough decimal places to do this)? Explain your answer.*"
      ]
    },
    {
      "cell_type": "code",
      "metadata": {
        "id": "BDnIaGUhaSI8",
        "colab": {
          "base_uri": "https://localhost:8080/"
        },
        "outputId": "71f5e63f-4339-4038-e439-a7ec2750a5ab"
      },
      "source": [
        "# define the derivative of a f(x):\n",
        "\n",
        "def der_f(x):\n",
        " return -np.exp(x)*(x-4)\n",
        "\n",
        "x = 5 \n",
        "counter = 0\n",
        "while abs(func(x)) > 10**(-8):\n",
        "  counter += 1\n",
        "  x = x - func(x)/der_f(x)\n",
        "  print('Step', counter ,':','Value:', round(x,7), 'Error:', round(func(x),11))\n"
      ],
      "execution_count": null,
      "outputs": [
        {
          "output_type": "stream",
          "name": "stdout",
          "text": [
            "Step 1 : Value: 4.9663103 Error: -0.16564277761\n",
            "Step 2 : Value: 4.9651157 Error: -0.00020120181\n",
            "Step 3 : Value: 4.9651142 Error: -3e-10\n"
          ]
        }
      ]
    },
    {
      "cell_type": "markdown",
      "metadata": {
        "id": "waZciH13kyB_"
      },
      "source": [
        "From this we can estimate that after the 4th iteration accuracy is going to be < 10^(-10*2) = 10^(-20) which is sufficient for it to be less than 10^(-16)"
      ]
    },
    {
      "cell_type": "markdown",
      "metadata": {
        "id": "6NwG9RZJmn_-"
      },
      "source": [
        "## c)\n",
        "\n",
        "*Take your routine for doing Newton’s method and modify it to run the secant method. Repeat the run of part (b), using, say, x0 = 4 and x1 = 5,\n",
        "and again predict (without running the code further) how many steps\n",
        "would be required to reduce | (xk)| below 10−16 (assuming that your\n",
        "machine carried enough decimal places to do this) using the secant method. Explain your answer.*"
      ]
    },
    {
      "cell_type": "code",
      "metadata": {
        "colab": {
          "base_uri": "https://localhost:8080/"
        },
        "id": "Uv7DVINjmm-m",
        "outputId": "bf423bff-c321-43cb-801b-4fc708b32459"
      },
      "source": [
        "xn = 4\n",
        "xn1 = 5\n",
        "counter = 0\n",
        "\n",
        "while abs(func(xn1)) > 10**(-8):\n",
        "  xn1, xn = xn1 - func(xn1)*(xn1-xn)/(func(xn1) - func(xn)), xn1\n",
        "  counter += 1\n",
        "  print('Step', counter ,':','Value:', round(xn1,7), 'Error:', round(func(xn1),11)) \n",
        "  "
      ],
      "execution_count": null,
      "outputs": [
        {
          "output_type": "stream",
          "name": "stdout",
          "text": [
            "Step 1 : Value: 4.9084218 Error: 7.40202440794\n",
            "Step 2 : Value: 4.9630793 Error: 0.2808942198\n",
            "Step 3 : Value: 4.9652353 Error: -0.01675049904\n",
            "Step 4 : Value: 4.965114 Error: 3.473149e-05\n",
            "Step 5 : Value: 4.9651142 Error: 4.28e-09\n"
          ]
        }
      ]
    },
    {
      "cell_type": "markdown",
      "metadata": {
        "id": "3VlveIfJwwxP"
      },
      "source": [
        "To increase precision to 10^(-16) we would need two more iterations because 10^(-9\\*1.63) > 10^(-15) and 10^(-9\\*1.63\\*1.63) = 10^(-23) < 10^(-15)"
      ]
    },
    {
      "cell_type": "markdown",
      "metadata": {
        "id": "5Svn4zdfCZsO"
      },
      "source": [
        "# Problem 2. Q3\n",
        "\n",
        "*Newton’s method can be used to compute reciprocals, without division. To compute1/R,let (x)=x−1 −Rsothat (x)=0whenx=1/R.Writedown the Newton iteration for this problem and compute (by hand or with a calculator) the first few Newton iterates for approximating 1/3, starting with x0 = 0.5, and not using any division. What happens if you start with x0 = 1?\n",
        "For positive R, use the theory of fixed point iteration to determine an\n",
        "interval about 1/R from which Newton’s method will converge to 1/R.*"
      ]
    },
    {
      "cell_type": "code",
      "metadata": {
        "colab": {
          "base_uri": "https://localhost:8080/"
        },
        "id": "oexwtb-yCkRs",
        "outputId": "3aea2831-d244-41db-f6ed-344e60a4117d"
      },
      "source": [
        "x = 0.66\n",
        "counter =0\n",
        "while abs(x-1/3) > 10**(-8):\n",
        "  x = 2*x - 3*x**2\n",
        "  counter += 1\n",
        "  print('Step', counter,'Value:', round(x,11), 'Error:', round(x-1/3,11)) \n"
      ],
      "execution_count": null,
      "outputs": [
        {
          "output_type": "stream",
          "name": "stdout",
          "text": [
            "Step 1 Value: 0.0132 Error: -0.32013333333\n",
            "Step 2 Value: 0.02587728 Error: -0.30745605333\n",
            "Step 3 Value: 0.04974565914 Error: -0.28358767419\n",
            "Step 4 Value: 0.09206742647 Error: -0.24126590686\n",
            "Step 5 Value: 0.15870561989 Error: -0.17462771344\n",
            "Step 6 Value: 0.24184881842 Error: -0.09148451491\n",
            "Step 7 Value: 0.30822508393 Error: -0.0251082494\n",
            "Step 8 Value: 0.33144206077 Error: -0.00189127256\n",
            "Step 9 Value: 0.3333226026 Error: -1.073074e-05\n",
            "Step 10 Value: 0.33333333299 Error: -3.5e-10\n"
          ]
        }
      ]
    },
    {
      "cell_type": "markdown",
      "metadata": {
        "id": "x_GF6uR0wB10"
      },
      "source": [
        "Recall, \n",
        "\n",
        "$|x_{n+1} - x_{*}| < \\frac{|f''(x_{n})|}{|2f'(x_{n})|}|x_{n} - x_{*}|^{2} \\rightarrow$ \n",
        "\n",
        "$ |x_{n+1} - x_{*}| < \\frac{1}{C}(C|x_{0} - x_{*}|)^{2n}$, \n",
        "\n",
        "where $ C = \\frac{|f''(1/3)|}{|2f'(1/3)|}) =3 $\n",
        "\n",
        "\n",
        "Therefore it converges when $C|x_{0} - x_{*}| < 1$ or $|x_{0} - 1/3| < 1/3$\n",
        "\n",
        "So $0<x<\\frac{2}{3}$\n",
        "\n",
        "\n",
        "\n"
      ]
    },
    {
      "cell_type": "markdown",
      "metadata": {
        "id": "-2uNf5DHy4N5"
      },
      "source": [
        "# Problem 3. Q4\n",
        "\n",
        "*Use Newton’s method to approximate $\\sqrt2$ to 6 decimal places.*"
      ]
    },
    {
      "cell_type": "code",
      "metadata": {
        "colab": {
          "base_uri": "https://localhost:8080/"
        },
        "id": "9lcgugzHhqvF",
        "outputId": "4eafc93b-b5bc-400a-f5bc-f232b6585f26"
      },
      "source": [
        "def f(x):\n",
        "  return x**2-2.0\n",
        "\n",
        "def df(x):\n",
        "  return 2*x\n",
        "\n",
        "x = 2\n",
        "counter = 0\n",
        "while abs(f(x)) > 10**(-6):\n",
        "  x = x - f(x)/df(x)\n",
        "  counter += 1\n",
        "  print('Step', counter ,':','Value:', round(x,10), 'Error:', round(f(x),12)) \n"
      ],
      "execution_count": null,
      "outputs": [
        {
          "output_type": "stream",
          "name": "stdout",
          "text": [
            "Step 1 : Value: 1.5 Error: 0.25\n",
            "Step 2 : Value: 1.4166666667 Error: 0.006944444444\n",
            "Step 3 : Value: 1.4142156863 Error: 6.007305e-06\n",
            "Step 4 : Value: 1.4142135624 Error: 5e-12\n"
          ]
        }
      ]
    },
    {
      "cell_type": "markdown",
      "metadata": {
        "id": "cczauaCv0Lnd"
      },
      "source": [
        "# Problem 4. Q6"
      ]
    },
    {
      "cell_type": "markdown",
      "metadata": {
        "id": "fRmUffSE05hg"
      },
      "source": [
        "## a)\n",
        "*Derive a function   that has a root at the point where h achieves its minimum. Write down the formula for Newton’s method applied to*   "
      ]
    },
    {
      "cell_type": "markdown",
      "metadata": {
        "id": "cghwAZET1PgS"
      },
      "source": [
        "$f(x) = h'(x) = x^{3} - 3$, thus Newton method would have:\n",
        "\n",
        "$x_{n+1} = x_{n} - \\frac{x_{n}^{3}-3}{3x_{n}^2}$"
      ]
    },
    {
      "cell_type": "markdown",
      "metadata": {
        "id": "PAlLGqu_1-wM"
      },
      "source": [
        "## b)\n",
        "\n",
        "*Take one step (by hand) with Newton’s method starting with a guess of x0 = 1.*"
      ]
    },
    {
      "cell_type": "markdown",
      "metadata": {
        "id": "UH063bow2Etj"
      },
      "source": [
        "$x_{1} = 1 - \\frac{1^{3} - 3}{3} = \\frac{5}{3}$"
      ]
    },
    {
      "cell_type": "markdown",
      "metadata": {
        "id": "J1RrSHuL2mUC"
      },
      "source": [
        "##c)\n",
        "\n",
        "*Take two steps (by hand) towards the root of   (i.e., the minimum of h) using bisection with a = 0, b = 4.*"
      ]
    },
    {
      "cell_type": "markdown",
      "metadata": {
        "id": "Im4KEng_2p7B"
      },
      "source": [
        "1) \n",
        "\n",
        "$\\frac{a+b}{2} = 2$\n",
        "\n",
        "$f(2) = 5$, therefore $a_{1} = 0 $ , $b_{1} = 2$\n",
        "\n",
        "2) \n",
        "\n",
        "$\\frac{a_{1} + b_{1}}{2} = 1$\n",
        "\n",
        "$f(1) = -2$"
      ]
    },
    {
      "cell_type": "markdown",
      "metadata": {
        "id": "am6KELtB4XgG"
      },
      "source": [
        "# Problem 5. Q9\n",
        "\n",
        "*Can the bisection method be used to find the roots of the function   (x) = sin x + 1? Why or why not? Can Newton’s method be used to find the roots (or a root) of this function? If so, what will be its order of convergence and why?*"
      ]
    },
    {
      "cell_type": "markdown",
      "metadata": {
        "id": "0_ez51DR8cUd"
      },
      "source": [
        "**Biscection method:**\n",
        "\n",
        "The bisection method will not work for given f because min(f) = 0 and IMV theorem can not be implemented in this case. \n",
        "\n",
        "**Newton method:**\n",
        "\n",
        "This method should work unless we start from $x_{0} = k* \\frac{\\pi}{2}$, where $k = 1,3,5...$ since in that case $f'(x_{0}) = 0$. The convergence rate of the method is linear $\\frac{1}{2}$ for $n\\rightarrow \\infty$ becuase $f'(x_{*}) = 0$\n",
        "\n"
      ]
    }
  ]
}